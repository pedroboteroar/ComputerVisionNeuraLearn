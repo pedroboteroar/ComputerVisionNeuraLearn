{
 "cells": [
  {
   "attachments": {},
   "cell_type": "markdown",
   "metadata": {},
   "source": [
    "# Tensor Basics\n",
    "\n",
    "A tensor can be considered a multidimensional array.\n",
    "\n",
    "An array may have different dimensions. A 0-dimensional array is a scalar, a 1-dimensional array is a vector, a 2-dimensional array is a matrix, and so on.\n",
    "\n",
    "Every tensor is conformed of tensors of lower dimensions. In a way that, a 2-dimensional tensor is conformed of 1-dimensional tensors, a 3-dimensional tensor is conformed of 2-dimensional tensors, etc."
   ]
  },
  {
   "cell_type": "code",
   "execution_count": 10,
   "metadata": {},
   "outputs": [],
   "source": [
    "# Needed libraries\n",
    "\n",
    "import tensorflow as tf\n",
    "import numpy as np"
   ]
  },
  {
   "attachments": {},
   "cell_type": "markdown",
   "metadata": {},
   "source": [
    "# Tensor Shapes\n",
    "\n",
    "The shape of a tensor is the number of elements that it has in each dimension. For example, a 2-dimensional tensor of shape (3, 2) has 3 elements in the first dimension and 2 elements in the second dimension.\n",
    "\n",
    "A 0-dimensional tensor has shape ().\n",
    "\n",
    "A 3-dimensional tensor of shape (3, 2, 4) has 3 elements in the first dimension, 2 elements in the second dimension, and 4 elements in the third dimension. In this case, the tensor has 3 two-dimensional tensors of shape (2, 4).\n",
    "\n",
    "Another thing to is that the amount of values in a tensor's shape is the same as the tensor's number of dimensions. For example, a tensor of shape (3, 2, 4) has 3 dimensions, and a tensor of shape (3, 2) has 2 dimensions."
   ]
  },
  {
   "cell_type": "code",
   "execution_count": 3,
   "metadata": {},
   "outputs": [
    {
     "name": "stdout",
     "output_type": "stream",
     "text": [
      "tf.Tensor(5, shape=(), dtype=int32)\n"
     ]
    }
   ],
   "source": [
    "# Create a 0-dimensional tensor\n",
    "zero_d = tf.constant(5)\n",
    "print(zero_d)"
   ]
  },
  {
   "cell_type": "code",
   "execution_count": 4,
   "metadata": {},
   "outputs": [
    {
     "name": "stdout",
     "output_type": "stream",
     "text": [
      "tf.Tensor([1 2 3 4 5], shape=(5,), dtype=int32)\n"
     ]
    }
   ],
   "source": [
    "# Create a 1-dimensional tensor\n",
    "one_d = tf.constant([1, 2, 3, 4, 5])\n",
    "print(one_d)"
   ]
  },
  {
   "cell_type": "code",
   "execution_count": 6,
   "metadata": {},
   "outputs": [
    {
     "name": "stdout",
     "output_type": "stream",
     "text": [
      "tf.Tensor(\n",
      "[[1 2 3]\n",
      " [4 5 6]], shape=(2, 3), dtype=int32)\n"
     ]
    }
   ],
   "source": [
    "# Create a 2-dimensional tensor\n",
    "two_d = tf.constant([[1, 2, 3], [4, 5, 6]])\n",
    "print(two_d)"
   ]
  },
  {
   "cell_type": "code",
   "execution_count": 7,
   "metadata": {},
   "outputs": [
    {
     "name": "stdout",
     "output_type": "stream",
     "text": [
      "tf.Tensor(\n",
      "[[[ 1  2  3]\n",
      "  [ 4  5  6]]\n",
      "\n",
      " [[ 7  8  9]\n",
      "  [10 11 12]]], shape=(2, 2, 3), dtype=int32)\n"
     ]
    }
   ],
   "source": [
    "# Create a 3-dimensional tensor\n",
    "three_d = tf.constant([[[1, 2, 3], [4, 5, 6]], [[7, 8, 9], [10, 11 ,12]]])\n",
    "print(three_d)"
   ]
  },
  {
   "attachments": {},
   "cell_type": "markdown",
   "metadata": {},
   "source": [
    "# Casting and Converting Tensors\n",
    "\n",
    "A tensor can be casted to another tensor of a different shape. For example, a tensor of shape (3, 2) can be casted to a tensor of shape (6, 1).\n"
   ]
  },
  {
   "cell_type": "code",
   "execution_count": 8,
   "metadata": {},
   "outputs": [
    {
     "name": "stdout",
     "output_type": "stream",
     "text": [
      "tf.Tensor(\n",
      "[[1]\n",
      " [2]\n",
      " [3]\n",
      " [4]\n",
      " [5]\n",
      " [6]], shape=(6, 1), dtype=int32)\n"
     ]
    }
   ],
   "source": [
    "# Cast a tensor of shape (3, 2) to a tensor of shape (6, 1)\n",
    "two_d = tf.constant([[1, 2], [3, 4], [5, 6]]) # shape (3, 2)    \n",
    "six_one = tf.reshape(two_d, (6, 1)) # shape (6, 1)\n",
    "print(six_one)"
   ]
  },
  {
   "attachments": {},
   "cell_type": "markdown",
   "metadata": {},
   "source": [
    "We can also convert a tensor to a tensor of a different shape. For example, a tensor of shape (3, 2) can be converted to a tensor of shape (2, 3)."
   ]
  },
  {
   "cell_type": "code",
   "execution_count": 9,
   "metadata": {},
   "outputs": [],
   "source": [
    "# Convert a tensor of shape (3, 2) to a tensor of shape (2, 3)\n",
    "two_d = tf.constant([[1, 2], [3, 4], [5, 6]]) # shape (3, 2)\n",
    "two_three = tf.reshape(two_d, (2, 3)) # shape (2, 3)"
   ]
  },
  {
   "attachments": {},
   "cell_type": "markdown",
   "metadata": {},
   "source": [
    "Another thing, is that we can convert a numpy array to a tensor and vice versa."
   ]
  },
  {
   "cell_type": "code",
   "execution_count": 11,
   "metadata": {},
   "outputs": [
    {
     "name": "stdout",
     "output_type": "stream",
     "text": [
      "tf.Tensor([1. 2. 3. 4. 5. 6.], shape=(6,), dtype=float64)\n"
     ]
    }
   ],
   "source": [
    "# Convert a numpy array to a tensor\n",
    "numpy_tensor = np.array([1, 2, 3, 4, 5, 6])\n",
    "converted_tensor = tf.convert_to_tensor(numpy_tensor, dtype=tf.float64)\n",
    "print(converted_tensor)"
   ]
  },
  {
   "cell_type": "code",
   "execution_count": 13,
   "metadata": {},
   "outputs": [
    {
     "name": "stdout",
     "output_type": "stream",
     "text": [
      "[[1 2]\n",
      " [3 4]\n",
      " [5 6]]\n"
     ]
    }
   ],
   "source": [
    "# Convert a tensor to a numpy array\n",
    "two_d = tf.constant([[1, 2], [3, 4], [5, 6]]) # shape (3, 2)\n",
    "numpy_array = two_d.numpy()\n",
    "print(numpy_array)"
   ]
  },
  {
   "attachments": {},
   "cell_type": "markdown",
   "metadata": {},
   "source": [
    "# Eye tensors\n",
    "\n",
    "An eye tensor is a tensor that has 1s in its diagonal and 0s in the rest of its elements. For example, a 3x3 eye tensor is:\n",
    "\n",
    "\\begin{matrix} 1 & 0 & 0 \\\\ 0 & 1 & 0 \\\\ 0 & 0 & 1 \\end{matrix}\n",
    "\n"
   ]
  },
  {
   "cell_type": "code",
   "execution_count": 14,
   "metadata": {},
   "outputs": [
    {
     "name": "stdout",
     "output_type": "stream",
     "text": [
      "tf.Tensor(\n",
      "[[1. 0. 0.]\n",
      " [0. 1. 0.]\n",
      " [0. 0. 1.]], shape=(3, 3), dtype=float32)\n"
     ]
    }
   ],
   "source": [
    "eye_tensor = tf.eye(\n",
    "    num_rows=3,\n",
    "    num_columns=None,\n",
    "    batch_shape=None,\n",
    "    dtype=tf.float32,\n",
    "    name=None\n",
    ")\n",
    "print(eye_tensor)"
   ]
  },
  {
   "cell_type": "code",
   "execution_count": null,
   "metadata": {},
   "outputs": [],
   "source": []
  }
 ],
 "metadata": {
  "kernelspec": {
   "display_name": "Python 3",
   "language": "python",
   "name": "python3"
  },
  "language_info": {
   "codemirror_mode": {
    "name": "ipython",
    "version": 3
   },
   "file_extension": ".py",
   "mimetype": "text/x-python",
   "name": "python",
   "nbconvert_exporter": "python",
   "pygments_lexer": "ipython3",
   "version": "3.9.1"
  },
  "orig_nbformat": 4,
  "vscode": {
   "interpreter": {
    "hash": "11938c6bc6919ae2720b4d5011047913343b08a43b18698fd82dedb0d4417594"
   }
  }
 },
 "nbformat": 4,
 "nbformat_minor": 2
}
